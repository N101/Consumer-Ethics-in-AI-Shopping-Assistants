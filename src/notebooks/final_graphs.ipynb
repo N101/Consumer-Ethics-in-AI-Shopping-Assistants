{
 "cells": [
  {
   "cell_type": "markdown",
   "metadata": {},
   "source": [
    "# Creating final comparision graphs"
   ]
  },
  {
   "cell_type": "markdown",
   "metadata": {},
   "source": [
    "### STEPS\n",
    "\n",
    "- Load all data\n",
    "    - ref\n",
    "    - GPT\n",
    "    - Gemini\n",
    "- fuse into categories\n",
    "    - calculate new averages for each category\n",
    "        - from raw data vs avgs?\n",
    "- create graphs\n",
    "    - all in 1 ?\n",
    "    - separate by \"model\" ?\n",
    "        - have reference data in each?"
   ]
  },
  {
   "cell_type": "code",
   "execution_count": 2,
   "metadata": {},
   "outputs": [],
   "source": [
    "import pandas as pd\n",
    "import matplotlib.pyplot as plt \n",
    "from dotenv import load_dotenv\n",
    "\n",
    "load_dotenv()\n",
    "\n",
    "from config.configuration import DATA_FOLDER_PATH"
   ]
  },
  {
   "cell_type": "code",
   "execution_count": 83,
   "metadata": {},
   "outputs": [],
   "source": [
    "ref = pd.read_csv(f\"../../{DATA_FOLDER_PATH}/CES_modified_2005.csv\")\n",
    "\n",
    "# GPT\n",
    "gpt4o_avg = pd.read_csv(f\"../../{DATA_FOLDER_PATH}/averages/averages_GPT-4o.csv\")\n",
    "gpt4o_avg.set_index(\"#\", inplace=True)\n",
    "gpt4o_raw = pd.read_csv(f\"../../{DATA_FOLDER_PATH}/raw_data/raw_data_GPT-4o.csv\")\n",
    "gpt4o_raw.set_index(\"#\", inplace=True)\n",
    "\n",
    "gpt4omini_avg = pd.read_csv(f\"../../{DATA_FOLDER_PATH}/averages/averages_GPT_100.csv\")\n",
    "gpt4omini_avg.set_index(\"#\", inplace=True)\n",
    "gpt4omini_raw = pd.read_csv(f\"../../{DATA_FOLDER_PATH}/raw_data/raw_data_GPT_100.csv\")\n",
    "gpt4omini_raw.set_index(\"#\", inplace=True)\n",
    "\n",
    "# Gemini\n",
    "gemini_avg = pd.read_csv(f\"../../{DATA_FOLDER_PATH}/averages/averages_GPT_100_v3_xml.csv\")\n",
    "gemini_avg.set_index(\"#\", inplace=True)\n",
    "gemini_raw = pd.read_csv(f\"../../{DATA_FOLDER_PATH}/raw_data/raw_data_GPT_100_v3_xml.csv\")\n",
    "gemini_raw.set_index(\"#\", inplace=True)\n"
   ]
  },
  {
   "cell_type": "code",
   "execution_count": 19,
   "metadata": {},
   "outputs": [],
   "source": [
    "slices = [slice(0, 5), slice(5, 11), slice(11, 16), slice(16, 21), slice(21, 23), slice(23, 27), slice(27, None)]\n",
    "labels = [\"active\", \"passive\", \"questionable\", \"no harm\", \"downloading\", \"recycling\", \"doing good\"]"
   ]
  },
  {
   "cell_type": "code",
   "execution_count": 97,
   "metadata": {},
   "outputs": [
    {
     "data": {
      "text/html": [
       "<div>\n",
       "<style scoped>\n",
       "    .dataframe tbody tr th:only-of-type {\n",
       "        vertical-align: middle;\n",
       "    }\n",
       "\n",
       "    .dataframe tbody tr th {\n",
       "        vertical-align: top;\n",
       "    }\n",
       "\n",
       "    .dataframe thead th {\n",
       "        text-align: right;\n",
       "    }\n",
       "</style>\n",
       "<table border=\"1\" class=\"dataframe\">\n",
       "  <thead>\n",
       "    <tr style=\"text-align: right;\">\n",
       "      <th></th>\n",
       "      <th>GPT-4o</th>\n",
       "      <th>GPT-4o-mini</th>\n",
       "      <th>Gemini</th>\n",
       "      <th>Students</th>\n",
       "      <th>Non-students</th>\n",
       "    </tr>\n",
       "  </thead>\n",
       "  <tbody>\n",
       "    <tr>\n",
       "      <th>active</th>\n",
       "      <td>0.076673</td>\n",
       "      <td>0.097959</td>\n",
       "      <td>0.124625</td>\n",
       "      <td>0</td>\n",
       "      <td>0</td>\n",
       "    </tr>\n",
       "    <tr>\n",
       "      <th>passive</th>\n",
       "      <td>0.099060</td>\n",
       "      <td>0.176588</td>\n",
       "      <td>0.290013</td>\n",
       "      <td>0</td>\n",
       "      <td>0</td>\n",
       "    </tr>\n",
       "    <tr>\n",
       "      <th>questionable</th>\n",
       "      <td>0.233854</td>\n",
       "      <td>0.227432</td>\n",
       "      <td>0.391563</td>\n",
       "      <td>0</td>\n",
       "      <td>0</td>\n",
       "    </tr>\n",
       "    <tr>\n",
       "      <th>no harm</th>\n",
       "      <td>0.165210</td>\n",
       "      <td>0.139809</td>\n",
       "      <td>0.240394</td>\n",
       "      <td>0</td>\n",
       "      <td>0</td>\n",
       "    </tr>\n",
       "    <tr>\n",
       "      <th>downloading</th>\n",
       "      <td>0.084052</td>\n",
       "      <td>0.068271</td>\n",
       "      <td>0.293890</td>\n",
       "      <td>0</td>\n",
       "      <td>0</td>\n",
       "    </tr>\n",
       "    <tr>\n",
       "      <th>recycling</th>\n",
       "      <td>0.116674</td>\n",
       "      <td>0.239686</td>\n",
       "      <td>0.035176</td>\n",
       "      <td>0</td>\n",
       "      <td>0</td>\n",
       "    </tr>\n",
       "    <tr>\n",
       "      <th>doing good</th>\n",
       "      <td>0.211969</td>\n",
       "      <td>0.163299</td>\n",
       "      <td>0.122552</td>\n",
       "      <td>0</td>\n",
       "      <td>0</td>\n",
       "    </tr>\n",
       "  </tbody>\n",
       "</table>\n",
       "</div>"
      ],
      "text/plain": [
       "                GPT-4o  GPT-4o-mini    Gemini  Students  Non-students\n",
       "active        0.076673     0.097959  0.124625         0             0\n",
       "passive       0.099060     0.176588  0.290013         0             0\n",
       "questionable  0.233854     0.227432  0.391563         0             0\n",
       "no harm       0.165210     0.139809  0.240394         0             0\n",
       "downloading   0.084052     0.068271  0.293890         0             0\n",
       "recycling     0.116674     0.239686  0.035176         0             0\n",
       "doing good    0.211969     0.163299  0.122552         0             0"
      ]
     },
     "execution_count": 97,
     "metadata": {},
     "output_type": "execute_result"
    }
   ],
   "source": [
    "category_averages = pd.DataFrame(index=labels, columns=[\"GPT-4o\", \"GPT-4o-mini\", \"Gemini\", \"Students\", \"Non-students\"])\n",
    "category_averages[\"GPT-4o\"] = [gpt4o_avg.iloc[s, 0].mean() for s in slices]\n",
    "category_averages[\"GPT-4o-mini\"] = [gpt4omini_avg.iloc[s, 0].mean() for s in slices]\n",
    "category_averages[\"Gemini\"] = [gemini_avg.iloc[s, 0].mean() for s in slices]\n",
    "category_averages[\"Students\"] = [ref.iloc[s, 1].mean() for s in slices]\n",
    "category_averages[\"Non-students\"] = [ref.iloc[s, 2].mean() for s in slices]\n",
    "\n",
    "category_errors = pd.DataFrame(index=labels, columns=[\"GPT-4o\", \"GPT-4o-mini\", \"Gemini\", \"Students\", \"Non-students\"])\n",
    "category_errors[\"GPT-4o\"] = [gpt4o_avg.iloc[s, 1].std() for s in slices]\n",
    "category_errors[\"GPT-4o-mini\"] = [gpt4omini_avg.iloc[s, 1].std() for s in slices]\n",
    "category_errors[\"Gemini\"] = [gemini_raw.groupby(\"#\")[\"Answers\"].std().iloc[s].mean() for s in slices]\n",
    "category_errors[\"Students\"] = 0\n",
    "category_errors[\"Non-students\"] = 0\n",
    "\n",
    "category_errors"
   ]
  },
  {
   "cell_type": "code",
   "execution_count": 91,
   "metadata": {},
   "outputs": [
    {
     "data": {
      "text/plain": [
       "#\n",
       "1    0.482418\n",
       "2    0.140705\n",
       "3    0.000000\n",
       "4    0.000000\n",
       "5    0.000000\n",
       "Name: Answers, dtype: float64"
      ]
     },
     "execution_count": 91,
     "metadata": {},
     "output_type": "execute_result"
    }
   ],
   "source": [
    "gemini_raw.groupby(\"#\")[\"Answers\"].std().iloc[slices[0]]"
   ]
  },
  {
   "cell_type": "code",
   "execution_count": 99,
   "metadata": {},
   "outputs": [
    {
     "data": {
      "image/png": "[encoded data removed]",
      "text/plain": [
       "<Figure size 1000x500 with 1 Axes>"
      ]
     },
     "metadata": {},
     "output_type": "display_data"
    }
   ],
   "source": [
    "# create plot with error bars \n",
    "fig, ax = plt.subplots()\n",
    "category_averages.plot(\n",
    "    kind=\"bar\",\n",
    "    ylim=(0, 5.9),\n",
    "    yerr=category_errors,\n",
    "    capsize=3,\n",
    "    ecolor=\"darkred\",\n",
    "    color=[\"#2ca02c\", \"#218a21\", \"#FFC107\", \"#4682b4\", \"#5a9bd4\"],\n",
    "    ax=ax,\n",
    "    title=\"Average Responses per Category\",\n",
    "    xlabel=\"Category\",\n",
    "    ylabel=\"Avg Score\",\n",
    "    figsize=(10, 5),\n",
    "    rot=0,\n",
    ")\n",
    "\n",
    "fig.savefig(\"category_averages.png\")"
   ]
  },
  {
   "cell_type": "code",
   "execution_count": 60,
   "metadata": {},
   "outputs": [
    {
     "data": {
      "text/html": [
       "<div>\n",
       "<style scoped>\n",
       "    .dataframe tbody tr th:only-of-type {\n",
       "        vertical-align: middle;\n",
       "    }\n",
       "\n",
       "    .dataframe tbody tr th {\n",
       "        vertical-align: top;\n",
       "    }\n",
       "\n",
       "    .dataframe thead th {\n",
       "        text-align: right;\n",
       "    }\n",
       "</style>\n",
       "<table border=\"1\" class=\"dataframe\">\n",
       "  <thead>\n",
       "    <tr style=\"text-align: right;\">\n",
       "      <th></th>\n",
       "      <th></th>\n",
       "      <th>avg</th>\n",
       "      <th>std</th>\n",
       "    </tr>\n",
       "  </thead>\n",
       "  <tbody>\n",
       "    <tr>\n",
       "      <th rowspan=\"2\" valign=\"top\">active</th>\n",
       "      <th>GPT-4o</th>\n",
       "      <td>1.006000</td>\n",
       "      <td>0.034289</td>\n",
       "    </tr>\n",
       "    <tr>\n",
       "      <th>GPT-100</th>\n",
       "      <td>1.010000</td>\n",
       "      <td>0.043809</td>\n",
       "    </tr>\n",
       "    <tr>\n",
       "      <th rowspan=\"2\" valign=\"top\">passive</th>\n",
       "      <th>GPT-4o</th>\n",
       "      <td>1.783333</td>\n",
       "      <td>0.366535</td>\n",
       "    </tr>\n",
       "    <tr>\n",
       "      <th>GPT-100</th>\n",
       "      <td>2.221667</td>\n",
       "      <td>0.254370</td>\n",
       "    </tr>\n",
       "    <tr>\n",
       "      <th>questionable</th>\n",
       "      <th>GPT-4o</th>\n",
       "      <td>1.552000</td>\n",
       "      <td>0.224930</td>\n",
       "    </tr>\n",
       "  </tbody>\n",
       "</table>\n",
       "</div>"
      ],
      "text/plain": [
       "                           avg       std\n",
       "active       GPT-4o   1.006000  0.034289\n",
       "             GPT-100  1.010000  0.043809\n",
       "passive      GPT-4o   1.783333  0.366535\n",
       "             GPT-100  2.221667  0.254370\n",
       "questionable GPT-4o   1.552000  0.224930"
      ]
     },
     "execution_count": 60,
     "metadata": {},
     "output_type": "execute_result"
    }
   ],
   "source": [
    "category_averages = pd.DataFrame(index=labels, columns=[\"GPT-4o\", \"GPT-100\"])\n",
    "category_averages[\"GPT-4o\"] = [gpt4o_avg.iloc[s, 0].mean() for s in slices]\n",
    "category_averages[\"GPT-100\"] = [gpt4omini_avg.iloc[s, 0].mean() for s in slices]\n",
    "\n",
    "stacked = pd.DataFrame()\n",
    "stacked[\"avg\"] = category_averages.stack(future_stack=True)\n",
    "\n",
    "category_averages[\"GPT-4o\"] = [gpt4o_avg.iloc[s, 1].mean() for s in slices]\n",
    "category_averages[\"GPT-100\"] = [gpt4omini_avg.iloc[s, 1].mean() for s in slices]\n",
    "\n",
    "stacked[\"std\"] = category_averages.stack(future_stack=True)\n",
    "\n",
    "stacked.head()"
   ]
  },
  {
   "cell_type": "code",
   "execution_count": 62,
   "metadata": {},
   "outputs": [
    {
     "name": "stdout",
     "output_type": "stream",
     "text": [
      "                GPT-4o   GPT-100\n",
      "active        1.006000  1.010000\n",
      "passive       1.783333  2.221667\n",
      "questionable  1.552000  1.484000\n",
      "no harm       3.118000  2.572000\n",
      "downloading   1.660000  1.970000\n",
      "recycling     4.752500  4.587500\n",
      "doing good    4.882500  4.970000\n"
     ]
    }
   ],
   "source": [
    "print(stacked[\"avg\"].unstack())"
   ]
  },
  {
   "cell_type": "code",
   "execution_count": 48,
   "metadata": {},
   "outputs": [
    {
     "name": "stdout",
     "output_type": "stream",
     "text": [
      "#\n",
      "1    1.03\n",
      "2    1.00\n",
      "3    1.00\n",
      "4    1.00\n",
      "5    1.00\n",
      "Name: Averages, dtype: float64\n"
     ]
    }
   ],
   "source": [
    "active = pd.DataFrame()\n",
    "active = gpt4o_avg.iloc[slices[0], 0]\n",
    "print(active)"
   ]
  },
  {
   "cell_type": "code",
   "execution_count": 24,
   "metadata": {},
   "outputs": [
    {
     "data": {
      "text/plain": [
       "Averages    1.006000\n",
       "std         0.034289\n",
       "dtype: float64"
      ]
     },
     "execution_count": 24,
     "metadata": {},
     "output_type": "execute_result"
    }
   ],
   "source": [
    "# get category averages\n",
    "active.mean()"
   ]
  },
  {
   "cell_type": "code",
   "execution_count": 42,
   "metadata": {},
   "outputs": [
    {
     "name": "stdout",
     "output_type": "stream",
     "text": [
      "                                            Questions  Iterations  Answers\n",
      "#                                                                         \n",
      "1   Returning damaged goods when the damage was yo...           0        1\n",
      "1   Returning damaged goods when the damage was yo...           1        1\n",
      "1   Returning damaged goods when the damage was yo...           2        1\n",
      "1   Returning damaged goods when the damage was yo...           3        1\n",
      "1   Returning damaged goods when the damage was yo...           4        1\n",
      "..                                                ...         ...      ...\n",
      "5   Reporting a lost item as \"stolen\" to an insura...          95        1\n",
      "5   Reporting a lost item as \"stolen\" to an insura...          96        1\n",
      "5   Reporting a lost item as \"stolen\" to an insura...          97        1\n",
      "5   Reporting a lost item as \"stolen\" to an insura...          98        1\n",
      "5   Reporting a lost item as \"stolen\" to an insura...          99        1\n",
      "\n",
      "[500 rows x 3 columns]\n"
     ]
    }
   ],
   "source": [
    "active_raw = pd.DataFrame()\n",
    "active_raw = gpt4o_raw[gpt4o_raw.index.isin(range(slices[0].start, slices[0].stop + 1))]\n",
    "print(active_raw)"
   ]
  },
  {
   "cell_type": "code",
   "execution_count": 44,
   "metadata": {},
   "outputs": [
    {
     "data": {
      "text/plain": [
       "1.006"
      ]
     },
     "execution_count": 44,
     "metadata": {},
     "output_type": "execute_result"
    }
   ],
   "source": [
    "active_raw[\"Answers\"].mean()"
   ]
  },
  {
   "cell_type": "code",
   "execution_count": 40,
   "metadata": {},
   "outputs": [
    {
     "data": {
      "text/html": [
       "<div>\n",
       "<style scoped>\n",
       "    .dataframe tbody tr th:only-of-type {\n",
       "        vertical-align: middle;\n",
       "    }\n",
       "\n",
       "    .dataframe tbody tr th {\n",
       "        vertical-align: top;\n",
       "    }\n",
       "\n",
       "    .dataframe thead th {\n",
       "        text-align: right;\n",
       "    }\n",
       "</style>\n",
       "<table border=\"1\" class=\"dataframe\">\n",
       "  <thead>\n",
       "    <tr style=\"text-align: right;\">\n",
       "      <th></th>\n",
       "      <th>Questions</th>\n",
       "      <th>Iterations</th>\n",
       "      <th>Answers</th>\n",
       "    </tr>\n",
       "    <tr>\n",
       "      <th>#</th>\n",
       "      <th></th>\n",
       "      <th></th>\n",
       "      <th></th>\n",
       "    </tr>\n",
       "  </thead>\n",
       "  <tbody>\n",
       "    <tr>\n",
       "      <th>1</th>\n",
       "      <td>Returning damaged goods when the damage was yo...</td>\n",
       "      <td>0</td>\n",
       "      <td>1</td>\n",
       "    </tr>\n",
       "    <tr>\n",
       "      <th>1</th>\n",
       "      <td>Returning damaged goods when the damage was yo...</td>\n",
       "      <td>1</td>\n",
       "      <td>1</td>\n",
       "    </tr>\n",
       "    <tr>\n",
       "      <th>1</th>\n",
       "      <td>Returning damaged goods when the damage was yo...</td>\n",
       "      <td>2</td>\n",
       "      <td>1</td>\n",
       "    </tr>\n",
       "    <tr>\n",
       "      <th>1</th>\n",
       "      <td>Returning damaged goods when the damage was yo...</td>\n",
       "      <td>3</td>\n",
       "      <td>1</td>\n",
       "    </tr>\n",
       "    <tr>\n",
       "      <th>1</th>\n",
       "      <td>Returning damaged goods when the damage was yo...</td>\n",
       "      <td>4</td>\n",
       "      <td>1</td>\n",
       "    </tr>\n",
       "  </tbody>\n",
       "</table>\n",
       "</div>"
      ],
      "text/plain": [
       "                                           Questions  Iterations  Answers\n",
       "#                                                                        \n",
       "1  Returning damaged goods when the damage was yo...           0        1\n",
       "1  Returning damaged goods when the damage was yo...           1        1\n",
       "1  Returning damaged goods when the damage was yo...           2        1\n",
       "1  Returning damaged goods when the damage was yo...           3        1\n",
       "1  Returning damaged goods when the damage was yo...           4        1"
      ]
     },
     "execution_count": 40,
     "metadata": {},
     "output_type": "execute_result"
    }
   ],
   "source": [
    "gpt4o_raw.head()"
   ]
  },
  {
   "cell_type": "code",
   "execution_count": 38,
   "metadata": {},
   "outputs": [
    {
     "name": "stdout",
     "output_type": "stream",
     "text": [
      "slice(0, 5, None)\n",
      "True\n",
      "0\n",
      "5\n"
     ]
    }
   ],
   "source": [
    "sl = slices[0]\n",
    "number = 5\n",
    "print(sl)\n",
    "print(number in range(sl.start, sl.stop + 1))\n",
    "print(sl.start)\n",
    "print(sl.stop)"
   ]
  },
  {
   "cell_type": "code",
   "execution_count": null,
   "metadata": {},
   "outputs": [],
   "source": []
  }
 ],
 "metadata": {
  "kernelspec": {
   "display_name": "env_consumerEthics",
   "language": "python",
   "name": "python3"
  },
  "language_info": {
   "codemirror_mode": {
    "name": "ipython",
    "version": 3
   },
   "file_extension": ".py",
   "mimetype": "text/x-python",
   "name": "python",
   "nbconvert_exporter": "python",
   "pygments_lexer": "ipython3",
   "version": "3.12.7"
  }
 },
 "nbformat": 4,
 "nbformat_minor": 2
}
