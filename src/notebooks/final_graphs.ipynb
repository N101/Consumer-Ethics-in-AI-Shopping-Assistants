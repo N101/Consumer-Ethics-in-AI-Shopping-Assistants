{
 "cells": [
  {
   "cell_type": "markdown",
   "metadata": {},
   "source": [
    "# Creating final comparision graphs"
   ]
  },
  {
   "cell_type": "markdown",
   "metadata": {},
   "source": [
    "### STEPS\n",
    "\n",
    "- Load all data\n",
    "    - ref\n",
    "    - GPT\n",
    "    - Gemini\n",
    "- fuse into categories\n",
    "    - calculate new averages for each category\n",
    "        - from raw data vs avgs?\n",
    "- create graphs\n",
    "    - all in 1 ?\n",
    "    - separate by \"model\" ?\n",
    "        - have reference data in each?"
   ]
  },
  {
   "cell_type": "code",
   "execution_count": 1,
   "metadata": {},
   "outputs": [],
   "source": [
    "import pandas as pd\n",
    "import matplotlib.pyplot as plt \n",
    "from dotenv import load_dotenv\n",
    "\n",
    "# load_dotenv()\n",
    "\n",
    "from config.configuration import DATA_FOLDER_PATH"
   ]
  },
  {
   "cell_type": "code",
   "execution_count": 2,
   "metadata": {},
   "outputs": [],
   "source": [
    "ref = pd.read_csv(f\"../../{DATA_FOLDER_PATH}/CES_modified_2005.csv\")\n",
    "\n",
    "# GPT\n",
    "gpt4o_avg = pd.read_csv(f\"../../{DATA_FOLDER_PATH}/averages/averages_GPT-4o.csv\")\n",
    "gpt4o_avg.set_index(\"#\", inplace=True)\n",
    "gpt4o_raw = pd.read_csv(f\"../../{DATA_FOLDER_PATH}/raw_data/raw_data_GPT-4o.csv\")\n",
    "gpt4o_raw.set_index(\"#\", inplace=True)\n",
    "\n",
    "gpt4omini_avg = pd.read_csv(f\"../../{DATA_FOLDER_PATH}/averages/averages_GPT_100.csv\")\n",
    "gpt4omini_avg.set_index(\"#\", inplace=True)\n",
    "gpt4omini_raw = pd.read_csv(f\"../../{DATA_FOLDER_PATH}/raw_data/raw_data_GPT_100.csv\")\n",
    "gpt4omini_raw.set_index(\"#\", inplace=True)\n",
    "\n",
    "gpt35_avg = pd.read_csv(f\"../../{DATA_FOLDER_PATH}/averages/GPT-3.5-turbo_averages.csv\")\n",
    "gpt35_avg.set_index(\"#\", inplace=True)\n",
    "gpt35_raw = pd.read_csv(f\"../../{DATA_FOLDER_PATH}/raw_data/GPT-3.5-turbo_raw_data.csv\")\n",
    "gpt35_raw.set_index(\"#\", inplace=True)\n",
    "\n",
    "# Gemini\n",
    "gemini_avg = pd.read_csv(f\"../../{DATA_FOLDER_PATH}/averages/Gemini_averages.csv\")\n",
    "gemini_avg.set_index(\"#\", inplace=True)\n",
    "gemini_raw = pd.read_csv(f\"../../{DATA_FOLDER_PATH}/raw_data/Gemini_raw_data.csv\")\n",
    "gemini_raw.set_index(\"#\", inplace=True)\n",
    "\n",
    "# Grok\n",
    "grok_avg = pd.read_csv(f\"../../{DATA_FOLDER_PATH}/averages/Grok_averages.csv\")\n",
    "grok_avg.set_index(\"#\", inplace=True)\n",
    "grok_raw = pd.read_csv(f\"../../{DATA_FOLDER_PATH}/raw_data/Grok_raw_data.csv\")\n",
    "grok_raw.set_index(\"#\", inplace=True)"
   ]
  },
  {
   "cell_type": "code",
   "execution_count": 4,
   "metadata": {},
   "outputs": [],
   "source": [
    "slices = [slice(0, 5), slice(5, 11), slice(11, 16), slice(16, 21), slice(21, 23), slice(23, 27), slice(27, None)]\n",
    "labels = [\"Active\", \"Passive\", \"Questionable\", \"No Harm\", \"Downloading\", \"Recycling\", \"Doing Good\"]"
   ]
  },
  {
   "cell_type": "code",
   "execution_count": 5,
   "metadata": {},
   "outputs": [
    {
     "data": {
      "text/html": [
       "<div>\n",
       "<style scoped>\n",
       "    .dataframe tbody tr th:only-of-type {\n",
       "        vertical-align: middle;\n",
       "    }\n",
       "\n",
       "    .dataframe tbody tr th {\n",
       "        vertical-align: top;\n",
       "    }\n",
       "\n",
       "    .dataframe thead th {\n",
       "        text-align: right;\n",
       "    }\n",
       "</style>\n",
       "<table border=\"1\" class=\"dataframe\">\n",
       "  <thead>\n",
       "    <tr style=\"text-align: right;\">\n",
       "      <th></th>\n",
       "      <th>GPT-4o</th>\n",
       "      <th>GPT-4o-mini</th>\n",
       "      <th>GPT-3.5-turbo</th>\n",
       "      <th>Gemini</th>\n",
       "      <th>Grok</th>\n",
       "      <th>Students</th>\n",
       "      <th>Non-students</th>\n",
       "    </tr>\n",
       "  </thead>\n",
       "  <tbody>\n",
       "    <tr>\n",
       "      <th>Active</th>\n",
       "      <td>0.013416</td>\n",
       "      <td>0.000000</td>\n",
       "      <td>0.091924</td>\n",
       "      <td>0.000000</td>\n",
       "      <td>0.659492</td>\n",
       "      <td>0</td>\n",
       "      <td>0</td>\n",
       "    </tr>\n",
       "    <tr>\n",
       "      <th>Passive</th>\n",
       "      <td>0.387746</td>\n",
       "      <td>1.071709</td>\n",
       "      <td>0.668144</td>\n",
       "      <td>1.084136</td>\n",
       "      <td>0.593613</td>\n",
       "      <td>0</td>\n",
       "      <td>0</td>\n",
       "    </tr>\n",
       "    <tr>\n",
       "      <th>Questionable</th>\n",
       "      <td>0.749913</td>\n",
       "      <td>0.437516</td>\n",
       "      <td>0.450910</td>\n",
       "      <td>0.433590</td>\n",
       "      <td>0.525005</td>\n",
       "      <td>0</td>\n",
       "      <td>0</td>\n",
       "    </tr>\n",
       "    <tr>\n",
       "      <th>No Harm</th>\n",
       "      <td>1.768649</td>\n",
       "      <td>1.179627</td>\n",
       "      <td>0.744862</td>\n",
       "      <td>1.257649</td>\n",
       "      <td>0.706682</td>\n",
       "      <td>0</td>\n",
       "      <td>0</td>\n",
       "    </tr>\n",
       "    <tr>\n",
       "      <th>Downloading</th>\n",
       "      <td>0.777817</td>\n",
       "      <td>0.707107</td>\n",
       "      <td>0.926310</td>\n",
       "      <td>0.707107</td>\n",
       "      <td>0.042426</td>\n",
       "      <td>0</td>\n",
       "      <td>0</td>\n",
       "    </tr>\n",
       "    <tr>\n",
       "      <th>Recycling</th>\n",
       "      <td>0.475070</td>\n",
       "      <td>1.128923</td>\n",
       "      <td>1.126913</td>\n",
       "      <td>1.119241</td>\n",
       "      <td>1.000000</td>\n",
       "      <td>0</td>\n",
       "      <td>0</td>\n",
       "    </tr>\n",
       "    <tr>\n",
       "      <th>Doing Good</th>\n",
       "      <td>0.139374</td>\n",
       "      <td>0.000000</td>\n",
       "      <td>0.050000</td>\n",
       "      <td>0.000000</td>\n",
       "      <td>0.985000</td>\n",
       "      <td>0</td>\n",
       "      <td>0</td>\n",
       "    </tr>\n",
       "  </tbody>\n",
       "</table>\n",
       "</div>"
      ],
      "text/plain": [
       "                GPT-4o  GPT-4o-mini  GPT-3.5-turbo    Gemini      Grok  \\\n",
       "Active        0.013416     0.000000       0.091924  0.000000  0.659492   \n",
       "Passive       0.387746     1.071709       0.668144  1.084136  0.593613   \n",
       "Questionable  0.749913     0.437516       0.450910  0.433590  0.525005   \n",
       "No Harm       1.768649     1.179627       0.744862  1.257649  0.706682   \n",
       "Downloading   0.777817     0.707107       0.926310  0.707107  0.042426   \n",
       "Recycling     0.475070     1.128923       1.126913  1.119241  1.000000   \n",
       "Doing Good    0.139374     0.000000       0.050000  0.000000  0.985000   \n",
       "\n",
       "              Students  Non-students  \n",
       "Active               0             0  \n",
       "Passive              0             0  \n",
       "Questionable         0             0  \n",
       "No Harm              0             0  \n",
       "Downloading          0             0  \n",
       "Recycling            0             0  \n",
       "Doing Good           0             0  "
      ]
     },
     "execution_count": 5,
     "metadata": {},
     "output_type": "execute_result"
    }
   ],
   "source": [
    "columns = [\"GPT-4o\", \"GPT-4o-mini\", \"GPT-3.5-turbo\", \"Gemini\", \"Grok\", \"Students\", \"Non-students\"]\n",
    "category_averages = pd.DataFrame(index=labels, columns=columns)\n",
    "category_averages[\"GPT-4o\"] = [gpt4o_avg.iloc[s, 0].mean() for s in slices]\n",
    "category_averages[\"GPT-4o-mini\"] = [gpt4omini_avg.iloc[s, 0].mean() for s in slices]\n",
    "category_averages[\"GPT-3.5-turbo\"] = [gpt35_avg.iloc[s, 0].mean() for s in slices]\n",
    "category_averages[\"Gemini\"] = [gemini_avg.iloc[s, 0].mean() for s in slices]\n",
    "category_averages[\"Grok\"] = [grok_avg.iloc[s, 0].mean() for s in slices]\n",
    "category_averages[\"Students\"] = [ref.iloc[s, 1].mean() for s in slices]\n",
    "category_averages[\"Non-students\"] = [ref.iloc[s, 2].mean() for s in slices]\n",
    "\n",
    "category_errors = pd.DataFrame(index=labels, columns=columns)\n",
    "category_errors[\"GPT-4o\"] = [gpt4o_avg.iloc[s, 0].std() for s in slices]\n",
    "category_errors[\"GPT-4o-mini\"] = [gpt4omini_avg.iloc[s, 0].std() for s in slices]\n",
    "category_errors[\"GPT-3.5-turbo\"] = [gpt35_avg.iloc[s, 0].std() for s in slices]\n",
    "category_errors[\"Gemini\"] = [gemini_avg.iloc[s, 0].std() for s in slices]\n",
    "# category_errors[\"Gemini\"] = [gemini_raw.groupby(\"#\")[\"Response\"].std().iloc[s].mean() for s in slices]\n",
    "category_errors[\"Grok\"] = [grok_avg.iloc[s, 0].std() for s in slices]\n",
    "category_errors[\"Students\"] = 0\n",
    "category_errors[\"Non-students\"] = 0\n",
    "\n",
    "category_errors"
   ]
  },
  {
   "cell_type": "code",
   "execution_count": 6,
   "metadata": {},
   "outputs": [
    {
     "data": {
      "image/png": "[encoded data removed]",
      "text/plain": [
       "<Figure size 1000x500 with 1 Axes>"
      ]
     },
     "metadata": {},
     "output_type": "display_data"
    }
   ],
   "source": [
    "# create plot with error bars \n",
    "fig, ax = plt.subplots()\n",
    "category_averages.plot(\n",
    "    kind=\"bar\",\n",
    "    ylim=(0, 5.9),\n",
    "    yerr=category_errors,\n",
    "    capsize=3,\n",
    "    ecolor=\"darkred\",\n",
    "    color=[\"#4682b4\", \"#5a9bd4\", \"#87ceeb\", \"#FFC107\", \"#A9A9A9\", \"#989898\"],\n",
    "    ax=ax,\n",
    "    title=\"Average Responses per Category\",\n",
    "    xlabel=\"Category\",\n",
    "    ylabel=\"Avg Score\",\n",
    "    figsize=(10, 5),\n",
    "    rot=0,\n",
    ")\n",
    "\n",
    "fig.savefig(\"category_averages.png\")"
   ]
  },
  {
   "cell_type": "code",
   "execution_count": 7,
   "metadata": {},
   "outputs": [
    {
     "data": {
      "text/plain": [
       "<Axes: title={'center': 'Average Responses per Category'}, xlabel='Categories', ylabel='Average Score'>"
      ]
     },
     "execution_count": 7,
     "metadata": {},
     "output_type": "execute_result"
    },
    {
     "data": {
      "image/png": "[encoded data removed]",
      "text/plain": [
       "<Figure size 1000x500 with 1 Axes>"
      ]
     },
     "metadata": {},
     "output_type": "display_data"
    }
   ],
   "source": [
    "\n",
    "fig, ax = plt.subplots()\n",
    "category_averages.plot(\n",
    "    kind=\"bar\",\n",
    "    ylim=(0, 5.9),\n",
    "    yerr=category_errors,\n",
    "    capsize=3,\n",
    "    ecolor=\"darkred\",\n",
    "    color=[\"#3B5998\", \"#5a9bd4\", \"#87ceeb\", \"#FFC107\", \"#000000\", \"#A9A9A9\", \"#989898\"],\n",
    "    ax=ax,\n",
    "    title=\"Average Responses per Category\",\n",
    "    xlabel=\"Categories\",\n",
    "    ylabel=\"Average Score\",\n",
    "    figsize=(10, 5),\n",
    "    rot=0,\n",
    ")"
   ]
  },
  {
   "cell_type": "code",
   "execution_count": 8,
   "metadata": {},
   "outputs": [
    {
     "data": {
      "text/html": [
       "<div>\n",
       "<style scoped>\n",
       "    .dataframe tbody tr th:only-of-type {\n",
       "        vertical-align: middle;\n",
       "    }\n",
       "\n",
       "    .dataframe tbody tr th {\n",
       "        vertical-align: top;\n",
       "    }\n",
       "\n",
       "    .dataframe thead th {\n",
       "        text-align: right;\n",
       "    }\n",
       "</style>\n",
       "<table border=\"1\" class=\"dataframe\">\n",
       "  <thead>\n",
       "    <tr style=\"text-align: right;\">\n",
       "      <th></th>\n",
       "      <th>GPT-4o</th>\n",
       "      <th>GPT-4o-mini</th>\n",
       "      <th>GPT-3.5-turbo</th>\n",
       "      <th>Gemini</th>\n",
       "      <th>Grok</th>\n",
       "      <th>Students</th>\n",
       "      <th>Non-students</th>\n",
       "    </tr>\n",
       "  </thead>\n",
       "  <tbody>\n",
       "    <tr>\n",
       "      <th>Active</th>\n",
       "      <td>0.013416</td>\n",
       "      <td>0.000000</td>\n",
       "      <td>0.091924</td>\n",
       "      <td>0.000000</td>\n",
       "      <td>0.659492</td>\n",
       "      <td>0</td>\n",
       "      <td>0</td>\n",
       "    </tr>\n",
       "    <tr>\n",
       "      <th>Passive</th>\n",
       "      <td>0.387746</td>\n",
       "      <td>1.071709</td>\n",
       "      <td>0.668144</td>\n",
       "      <td>1.084136</td>\n",
       "      <td>0.593613</td>\n",
       "      <td>0</td>\n",
       "      <td>0</td>\n",
       "    </tr>\n",
       "    <tr>\n",
       "      <th>Questionable</th>\n",
       "      <td>0.749913</td>\n",
       "      <td>0.437516</td>\n",
       "      <td>0.450910</td>\n",
       "      <td>0.433590</td>\n",
       "      <td>0.525005</td>\n",
       "      <td>0</td>\n",
       "      <td>0</td>\n",
       "    </tr>\n",
       "    <tr>\n",
       "      <th>No Harm</th>\n",
       "      <td>1.768649</td>\n",
       "      <td>1.179627</td>\n",
       "      <td>0.744862</td>\n",
       "      <td>1.257649</td>\n",
       "      <td>0.706682</td>\n",
       "      <td>0</td>\n",
       "      <td>0</td>\n",
       "    </tr>\n",
       "    <tr>\n",
       "      <th>Downloading</th>\n",
       "      <td>0.777817</td>\n",
       "      <td>0.707107</td>\n",
       "      <td>0.926310</td>\n",
       "      <td>0.707107</td>\n",
       "      <td>0.042426</td>\n",
       "      <td>0</td>\n",
       "      <td>0</td>\n",
       "    </tr>\n",
       "    <tr>\n",
       "      <th>Recycling</th>\n",
       "      <td>0.475070</td>\n",
       "      <td>1.128923</td>\n",
       "      <td>1.126913</td>\n",
       "      <td>1.119241</td>\n",
       "      <td>1.000000</td>\n",
       "      <td>0</td>\n",
       "      <td>0</td>\n",
       "    </tr>\n",
       "    <tr>\n",
       "      <th>Doing Good</th>\n",
       "      <td>0.139374</td>\n",
       "      <td>0.000000</td>\n",
       "      <td>0.050000</td>\n",
       "      <td>0.000000</td>\n",
       "      <td>0.985000</td>\n",
       "      <td>0</td>\n",
       "      <td>0</td>\n",
       "    </tr>\n",
       "  </tbody>\n",
       "</table>\n",
       "</div>"
      ],
      "text/plain": [
       "                GPT-4o  GPT-4o-mini  GPT-3.5-turbo    Gemini      Grok  \\\n",
       "Active        0.013416     0.000000       0.091924  0.000000  0.659492   \n",
       "Passive       0.387746     1.071709       0.668144  1.084136  0.593613   \n",
       "Questionable  0.749913     0.437516       0.450910  0.433590  0.525005   \n",
       "No Harm       1.768649     1.179627       0.744862  1.257649  0.706682   \n",
       "Downloading   0.777817     0.707107       0.926310  0.707107  0.042426   \n",
       "Recycling     0.475070     1.128923       1.126913  1.119241  1.000000   \n",
       "Doing Good    0.139374     0.000000       0.050000  0.000000  0.985000   \n",
       "\n",
       "              Students  Non-students  \n",
       "Active               0             0  \n",
       "Passive              0             0  \n",
       "Questionable         0             0  \n",
       "No Harm              0             0  \n",
       "Downloading          0             0  \n",
       "Recycling            0             0  \n",
       "Doing Good           0             0  "
      ]
     },
     "execution_count": 8,
     "metadata": {},
     "output_type": "execute_result"
    }
   ],
   "source": [
    "category_errors"
   ]
  },
  {
   "cell_type": "code",
   "execution_count": 19,
   "metadata": {},
   "outputs": [
    {
     "data": {
      "text/html": [
       "<div>\n",
       "<style scoped>\n",
       "    .dataframe tbody tr th:only-of-type {\n",
       "        vertical-align: middle;\n",
       "    }\n",
       "\n",
       "    .dataframe tbody tr th {\n",
       "        vertical-align: top;\n",
       "    }\n",
       "\n",
       "    .dataframe thead th {\n",
       "        text-align: right;\n",
       "    }\n",
       "</style>\n",
       "<table border=\"1\" class=\"dataframe\">\n",
       "  <thead>\n",
       "    <tr style=\"text-align: right;\">\n",
       "      <th></th>\n",
       "      <th>Averages</th>\n",
       "      <th>std</th>\n",
       "    </tr>\n",
       "    <tr>\n",
       "      <th>#</th>\n",
       "      <th></th>\n",
       "      <th></th>\n",
       "    </tr>\n",
       "  </thead>\n",
       "  <tbody>\n",
       "    <tr>\n",
       "      <th>6</th>\n",
       "      <td>1.11</td>\n",
       "      <td>0.314466</td>\n",
       "    </tr>\n",
       "    <tr>\n",
       "      <th>7</th>\n",
       "      <td>2.24</td>\n",
       "      <td>0.429235</td>\n",
       "    </tr>\n",
       "    <tr>\n",
       "      <th>8</th>\n",
       "      <td>1.94</td>\n",
       "      <td>0.277798</td>\n",
       "    </tr>\n",
       "    <tr>\n",
       "      <th>9</th>\n",
       "      <td>1.65</td>\n",
       "      <td>0.479372</td>\n",
       "    </tr>\n",
       "    <tr>\n",
       "      <th>10</th>\n",
       "      <td>2.00</td>\n",
       "      <td>0.246183</td>\n",
       "    </tr>\n",
       "    <tr>\n",
       "      <th>11</th>\n",
       "      <td>1.76</td>\n",
       "      <td>0.452155</td>\n",
       "    </tr>\n",
       "  </tbody>\n",
       "</table>\n",
       "</div>"
      ],
      "text/plain": [
       "    Averages       std\n",
       "#                     \n",
       "6       1.11  0.314466\n",
       "7       2.24  0.429235\n",
       "8       1.94  0.277798\n",
       "9       1.65  0.479372\n",
       "10      2.00  0.246183\n",
       "11      1.76  0.452155"
      ]
     },
     "execution_count": 19,
     "metadata": {},
     "output_type": "execute_result"
    }
   ],
   "source": [
    "gpt4o_avg.iloc[slices[1]]"
   ]
  },
  {
   "cell_type": "code",
   "execution_count": 17,
   "metadata": {},
   "outputs": [
    {
     "data": {
      "text/plain": [
       "1.006"
      ]
     },
     "execution_count": 17,
     "metadata": {},
     "output_type": "execute_result"
    }
   ],
   "source": [
    "gpt4o_avg.iloc[slices[0], 0].mean()"
   ]
  },
  {
   "cell_type": "code",
   "execution_count": 18,
   "metadata": {},
   "outputs": [
    {
     "data": {
      "text/plain": [
       "0.013416407864998748"
      ]
     },
     "execution_count": 18,
     "metadata": {},
     "output_type": "execute_result"
    }
   ],
   "source": [
    "gpt4o_avg.iloc[slices[1], 0].std()"
   ]
  },
  {
   "cell_type": "code",
   "execution_count": null,
   "metadata": {},
   "outputs": [],
   "source": []
  },
  {
   "cell_type": "markdown",
   "metadata": {},
   "source": [
    "### testing"
   ]
  },
  {
   "cell_type": "code",
   "execution_count": null,
   "metadata": {},
   "outputs": [],
   "source": [
    "category_averages = pd.DataFrame(index=labels, columns=[\"GPT-4o\", \"GPT-100\"])\n",
    "category_averages[\"GPT-4o\"] = [gpt4o_avg.iloc[s, 0].mean() for s in slices]\n",
    "category_averages[\"GPT-100\"] = [gpt4omini_avg.iloc[s, 0].mean() for s in slices]\n",
    "\n",
    "stacked = pd.DataFrame()\n",
    "stacked[\"avg\"] = category_averages.stack(future_stack=True)\n",
    "\n",
    "category_averages[\"GPT-4o\"] = [gpt4o_avg.iloc[s, 1].mean() for s in slices]\n",
    "category_averages[\"GPT-100\"] = [gpt4omini_avg.iloc[s, 1].mean() for s in slices]\n",
    "\n",
    "stacked[\"std\"] = category_averages.stack(future_stack=True)\n",
    "\n",
    "stacked.head()"
   ]
  },
  {
   "cell_type": "code",
   "execution_count": null,
   "metadata": {},
   "outputs": [],
   "source": [
    "print(stacked[\"avg\"].unstack())"
   ]
  },
  {
   "cell_type": "code",
   "execution_count": null,
   "metadata": {},
   "outputs": [],
   "source": [
    "active = pd.DataFrame()\n",
    "active = gpt4o_avg.iloc[slices[0], 0]\n",
    "print(active)"
   ]
  },
  {
   "cell_type": "code",
   "execution_count": null,
   "metadata": {},
   "outputs": [],
   "source": [
    "# get category averages\n",
    "active.mean()"
   ]
  },
  {
   "cell_type": "code",
   "execution_count": null,
   "metadata": {},
   "outputs": [],
   "source": [
    "active_raw = pd.DataFrame()\n",
    "active_raw = gpt4o_raw[gpt4o_raw.index.isin(range(slices[0].start, slices[0].stop + 1))]\n",
    "print(active_raw)"
   ]
  },
  {
   "cell_type": "code",
   "execution_count": null,
   "metadata": {},
   "outputs": [],
   "source": [
    "active_raw[\"Answers\"].mean()"
   ]
  },
  {
   "cell_type": "code",
   "execution_count": null,
   "metadata": {},
   "outputs": [],
   "source": [
    "gpt4o_raw.head()"
   ]
  },
  {
   "cell_type": "code",
   "execution_count": null,
   "metadata": {},
   "outputs": [],
   "source": [
    "sl = slices[0]\n",
    "number = 5\n",
    "print(sl)\n",
    "print(number in range(sl.start, sl.stop + 1))\n",
    "print(sl.start)\n",
    "print(sl.stop)"
   ]
  },
  {
   "cell_type": "code",
   "execution_count": null,
   "metadata": {},
   "outputs": [],
   "source": []
  }
 ],
 "metadata": {
  "kernelspec": {
   "display_name": "env_consumerEthics",
   "language": "python",
   "name": "python3"
  },
  "language_info": {
   "codemirror_mode": {
    "name": "ipython",
    "version": 3
   },
   "file_extension": ".py",
   "mimetype": "text/x-python",
   "name": "python",
   "nbconvert_exporter": "python",
   "pygments_lexer": "ipython3",
   "version": "3.12.7"
  }
 },
 "nbformat": 4,
 "nbformat_minor": 2
}
