{
 "cells": [
  {
   "cell_type": "markdown",
   "id": "445d80fca214f69d",
   "metadata": {},
   "source": [
    "## Inspecting Evaluation Data "
   ]
  },
  {
   "cell_type": "code",
   "execution_count": 1,
   "id": "initial_id",
   "metadata": {
    "ExecuteTime": {
     "end_time": "2024-11-05T18:32:50.174246Z",
     "start_time": "2024-11-05T18:32:47.380409Z"
    },
    "collapsed": true
   },
   "outputs": [],
   "source": [
    "import pandas as pd\n",
    "import matplotlib.pyplot as plt\n",
    "import numpy as np\n",
    "from sqlalchemy.dialects.mssql.information_schema import columns"
   ]
  },
  {
   "cell_type": "code",
   "execution_count": 4,
   "id": "7393d27613c91d21",
   "metadata": {
    "ExecuteTime": {
     "end_time": "2024-11-05T18:43:44.542812Z",
     "start_time": "2024-11-05T18:43:44.489113Z"
    }
   },
   "outputs": [],
   "source": [
    "# baseline_raw_data = pd.read_csv(\"data/raw_data_GPT_100_v2.1.csv\") \n",
    "# baseline_averages = pd.read_csv(\"data/averages_GPT_100_v2.1.csv\")\n",
    "zero_shot_raw_data = pd.read_csv(\"data/raw_data_GPT_100_v2.1_zero-shot.csv\")\n",
    "zero_shot_avg = pd.read_csv(\"data/averages_GPT_100_v2.1_zero-shot.csv\")\n",
    "xml_raw_data = pd.read_csv(\"data/raw_data_GPT_100_v3_xml.csv\")\n",
    "xml_avg = pd.read_csv(\"data/averages_GPT_100_v3_xml.csv\")\n",
    "reference_data = pd.read_csv(\"data/CES_modified_2005.csv\")"
   ]
  },
  {
   "cell_type": "code",
   "execution_count": 5,
   "id": "63ccad51ad741167",
   "metadata": {
    "ExecuteTime": {
     "end_time": "2024-11-05T18:43:45.117345Z",
     "start_time": "2024-11-05T18:43:45.100409Z"
    }
   },
   "outputs": [],
   "source": [
    "# baseline_averages = baseline_averages.rename(columns={\"Averages\": \"v2.1 avg\"})\n",
    "# print(baseline_averages.columns)\n",
    "zero_shot_avg = zero_shot_avg.rename(columns={\"Averages\": \"0-shot avg\"})\n",
    "xml_avg = xml_avg.rename(columns={\"Averages\": \"xml avg\"})"
   ]
  },
  {
   "cell_type": "code",
   "execution_count": 124,
   "id": "f5e4b6026789adde",
   "metadata": {
    "ExecuteTime": {
     "end_time": "2024-10-30T08:56:55.551402Z",
     "start_time": "2024-10-30T08:56:55.547010Z"
    }
   },
   "outputs": [],
   "source": [
    "df = zero_shot_raw_data.copy()\n",
    "# df = averages.copy()"
   ]
  },
  {
   "cell_type": "code",
   "execution_count": 30,
   "id": "b7b6593611f109f7",
   "metadata": {
    "ExecuteTime": {
     "end_time": "2024-11-05T18:45:16.469895Z",
     "start_time": "2024-11-05T18:45:16.350096Z"
    }
   },
   "outputs": [],
   "source": [
    "df2 = pd.merge(baseline_averages.set_index(\"#\"), reference_data, left_index=True, right_on=\"#\")\n",
    "df2 = pd.merge(zero_shot_avg, df2, on=\"#\", how=\"inner\")\n",
    "df2 = pd.merge(xml_avg, df2, on=\"#\", how=\"inner\")\n",
    "df2.index += 1"
   ]
  },
  {
   "cell_type": "code",
   "execution_count": 31,
   "id": "8ae7b2dfd18b7689",
   "metadata": {
    "ExecuteTime": {
     "end_time": "2024-11-05T18:45:18.703704Z",
     "start_time": "2024-11-05T18:45:18.662455Z"
    }
   },
   "outputs": [
    {
     "data": {
      "text/html": [
       "<div>\n",
       "<style scoped>\n",
       "    .dataframe tbody tr th:only-of-type {\n",
       "        vertical-align: middle;\n",
       "    }\n",
       "\n",
       "    .dataframe tbody tr th {\n",
       "        vertical-align: top;\n",
       "    }\n",
       "\n",
       "    .dataframe thead th {\n",
       "        text-align: right;\n",
       "    }\n",
       "</style>\n",
       "<table border=\"1\" class=\"dataframe\">\n",
       "  <thead>\n",
       "    <tr style=\"text-align: right;\">\n",
       "      <th></th>\n",
       "      <th>#</th>\n",
       "      <th>xml avg</th>\n",
       "      <th>0-shot avg</th>\n",
       "      <th>v2.1 avg</th>\n",
       "      <th>students</th>\n",
       "      <th>non-students</th>\n",
       "    </tr>\n",
       "  </thead>\n",
       "  <tbody>\n",
       "    <tr>\n",
       "      <th>1</th>\n",
       "      <td>1</td>\n",
       "      <td>1.84</td>\n",
       "      <td>1.03</td>\n",
       "      <td>1.55</td>\n",
       "      <td>2.47</td>\n",
       "      <td>1.57</td>\n",
       "    </tr>\n",
       "    <tr>\n",
       "      <th>2</th>\n",
       "      <td>2</td>\n",
       "      <td>2.21</td>\n",
       "      <td>1.06</td>\n",
       "      <td>2.00</td>\n",
       "      <td>2.07</td>\n",
       "      <td>1.44</td>\n",
       "    </tr>\n",
       "    <tr>\n",
       "      <th>3</th>\n",
       "      <td>3</td>\n",
       "      <td>1.00</td>\n",
       "      <td>1.00</td>\n",
       "      <td>1.00</td>\n",
       "      <td>1.67</td>\n",
       "      <td>1.16</td>\n",
       "    </tr>\n",
       "    <tr>\n",
       "      <th>4</th>\n",
       "      <td>4</td>\n",
       "      <td>1.00</td>\n",
       "      <td>1.00</td>\n",
       "      <td>1.00</td>\n",
       "      <td>1.44</td>\n",
       "      <td>1.07</td>\n",
       "    </tr>\n",
       "    <tr>\n",
       "      <th>5</th>\n",
       "      <td>5</td>\n",
       "      <td>1.00</td>\n",
       "      <td>1.00</td>\n",
       "      <td>1.00</td>\n",
       "      <td>1.76</td>\n",
       "      <td>1.22</td>\n",
       "    </tr>\n",
       "  </tbody>\n",
       "</table>\n",
       "</div>"
      ],
      "text/plain": [
       "   #  xml avg  0-shot avg  v2.1 avg  students  non-students\n",
       "1  1     1.84        1.03      1.55      2.47          1.57\n",
       "2  2     2.21        1.06      2.00      2.07          1.44\n",
       "3  3     1.00        1.00      1.00      1.67          1.16\n",
       "4  4     1.00        1.00      1.00      1.44          1.07\n",
       "5  5     1.00        1.00      1.00      1.76          1.22"
      ]
     },
     "execution_count": 31,
     "metadata": {},
     "output_type": "execute_result"
    }
   ],
   "source": [
    "df2.head()"
   ]
  },
  {
   "cell_type": "code",
   "execution_count": 12,
   "id": "12d2f2e475e619d6",
   "metadata": {
    "ExecuteTime": {
     "end_time": "2024-10-29T18:30:16.243786Z",
     "start_time": "2024-10-29T18:30:16.182748Z"
    }
   },
   "outputs": [],
   "source": [
    "# format df for easier further use\n",
    "df[\"Averages\"] = df.groupby(\"#\")[\"Answers\"].transform(\"mean\")\n",
    "df[[\"#\", \"Questions\",  \"Averages\"]] = \\\n",
    "    (df[[\"#\", \"Questions\", \"Averages\"]].mask(df[[\"#\", \"Questions\", \"Averages\"]].duplicated(), \"\"))\n"
   ]
  },
  {
   "cell_type": "code",
   "execution_count": 28,
   "id": "2504b5e9e08abfdd",
   "metadata": {
    "ExecuteTime": {
     "end_time": "2024-11-05T18:36:57.120263Z",
     "start_time": "2024-11-05T18:36:57.113638Z"
    }
   },
   "outputs": [],
   "source": [
    "slices = [slice(0, 5), slice(5, 11), slice(11, 16), slice(16, 21), slice(21, 23), slice(23, 27), slice(27, None)]"
   ]
  },
  {
   "cell_type": "code",
   "execution_count": 32,
   "id": "6537c695c9490143",
   "metadata": {
    "ExecuteTime": {
     "end_time": "2024-11-05T18:45:25.398691Z",
     "start_time": "2024-11-05T18:45:21.473Z"
    }
   },
   "outputs": [
    {
     "data": {
      "image/png": "[encoded data removed]",
      "text/plain": [
       "<Figure size 640x480 with 1 Axes>"
      ]
     },
     "metadata": {},
     "output_type": "display_data"
    },
    {
     "data": {
      "image/png": "[encoded data removed]",
      "text/plain": [
       "<Figure size 640x480 with 1 Axes>"
      ]
     },
     "metadata": {},
     "output_type": "display_data"
    },
    {
     "data": {
      "image/png": "[encoded data removed]",
      "text/plain": [
       "<Figure size 640x480 with 1 Axes>"
      ]
     },
     "metadata": {},
     "output_type": "display_data"
    },
    {
     "data": {
      "image/png": "[encoded data removed]",
      "text/plain": [
       "<Figure size 640x480 with 1 Axes>"
      ]
     },
     "metadata": {},
     "output_type": "display_data"
    },
    {
     "data": {
      "image/png": "[encoded data removed]",
      "text/plain": [
       "<Figure size 640x480 with 1 Axes>"
      ]
     },
     "metadata": {},
     "output_type": "display_data"
    },
    {
     "data": {
      "image/png": "[encoded data removed]",
      "text/plain": [
       "<Figure size 640x480 with 1 Axes>"
      ]
     },
     "metadata": {},
     "output_type": "display_data"
    },
    {
     "data": {
      "image/png": "[encoded data removed]",
      "text/plain": [
       "<Figure size 640x480 with 1 Axes>"
      ]
     },
     "metadata": {},
     "output_type": "display_data"
    }
   ],
   "source": [
    "tmp = baseline_averages.iloc[0:5]\n",
    "ref = reference_data[['students','non-students']].iloc[0:5]\n",
    "# ax = tmp['Averages'].plot.bar()\n",
    "# ref.plot.bar(ax=ax)\n",
    "[df2.iloc[sl, 1:6].plot.bar(ylim=(0,5.9)) for sl in slices]\n",
    "plt.show()"
   ]
  },
  {
   "cell_type": "code",
   "execution_count": 26,
   "id": "4cddac35afc1e816",
   "metadata": {
    "ExecuteTime": {
     "end_time": "2024-10-30T00:41:41.251173Z",
     "start_time": "2024-10-30T00:41:41.055333Z"
    }
   },
   "outputs": [
    {
     "data": {
      "image/png": "[encoded data removed]",
      "text/plain": [
       "<Figure size 640x480 with 1 Axes>"
      ]
     },
     "metadata": {},
     "output_type": "display_data"
    }
   ],
   "source": [
    "reference_data[['students','non-students']].iloc[0:5].plot.bar()\n",
    "plt.show()"
   ]
  },
  {
   "cell_type": "code",
   "execution_count": 35,
   "id": "a6f8ba0110b630d9",
   "metadata": {
    "ExecuteTime": {
     "end_time": "2024-11-06T08:50:26.211361Z",
     "start_time": "2024-11-06T08:50:26.182303Z"
    }
   },
   "outputs": [
    {
     "name": "stdout",
     "output_type": "stream",
     "text": [
      "\n",
      "You will be presented with a statement. Please rate the statement on a 5 point scale from 1 = 'strongly believe that it is wrong' to 5 = 'strongly believe that it is not wrong'\n",
      "Format your response as following:\n",
      "\tSimply state your response on the scale (as a number). Nothing more, nothing less. Just simply a single digit response.\n",
      "\n",
      "You will be presented with a statement. Please rate the statement on a 5 point scale from 1 = 'strongly believe that it is wrong' to 5 = 'strongly believe that it is not wrong'\n",
      "Format your response as following:\n",
      "    Simply state your response on the scale (as a number). Nothing more, nothing less. Just simply a single digit response.\n",
      "\n"
     ]
    }
   ],
   "source": [
    "print(\"\"\"\n",
    "You will be presented with a statement. Please rate the statement on a 5 point scale from 1 = 'strongly believe that it is wrong' to 5 = 'strongly believe that it is not wrong'\n",
    "Format your response as following:\n",
    "\\tSimply state your response on the scale (as a number). Nothing more, nothing less. Just simply a single digit response.\n",
    "\n",
    "You will be presented with a statement. Please rate the statement on a 5 point scale from 1 = 'strongly believe that it is wrong' to 5 = 'strongly believe that it is not wrong'\n",
    "Format your response as following:\n",
    "    Simply state your response on the scale (as a number). Nothing more, nothing less. Just simply a single digit response.\n",
    "\"\"\")"
   ]
  },
  {
   "cell_type": "code",
   "execution_count": 14,
   "id": "938718c0dfa25dd8",
   "metadata": {},
   "outputs": [],
   "source": [
    "df = pd.read_csv(\"data/averages_100.csv\")\n",
    "df_raw = pd.read_csv(\"data/raw_data_100.csv\")\n",
    "df = df.merge(reference_data, on=\"#\")\n",
    "df.index += 1"
   ]
  },
  {
   "cell_type": "code",
   "execution_count": 26,
   "id": "98a9552f",
   "metadata": {},
   "outputs": [
    {
     "data": {
      "text/html": [
       "<div>\n",
       "<style scoped>\n",
       "    .dataframe tbody tr th:only-of-type {\n",
       "        vertical-align: middle;\n",
       "    }\n",
       "\n",
       "    .dataframe tbody tr th {\n",
       "        vertical-align: top;\n",
       "    }\n",
       "\n",
       "    .dataframe thead th {\n",
       "        text-align: right;\n",
       "    }\n",
       "</style>\n",
       "<table border=\"1\" class=\"dataframe\">\n",
       "  <thead>\n",
       "    <tr style=\"text-align: right;\">\n",
       "      <th></th>\n",
       "      <th>#</th>\n",
       "      <th>avg</th>\n",
       "      <th>students</th>\n",
       "      <th>non-students</th>\n",
       "    </tr>\n",
       "  </thead>\n",
       "  <tbody>\n",
       "    <tr>\n",
       "      <th>1</th>\n",
       "      <td>0</td>\n",
       "      <td>0.171447</td>\n",
       "      <td>0</td>\n",
       "      <td>0</td>\n",
       "    </tr>\n",
       "    <tr>\n",
       "      <th>2</th>\n",
       "      <td>0</td>\n",
       "      <td>0.000000</td>\n",
       "      <td>0</td>\n",
       "      <td>0</td>\n",
       "    </tr>\n",
       "    <tr>\n",
       "      <th>3</th>\n",
       "      <td>0</td>\n",
       "      <td>0.100000</td>\n",
       "      <td>0</td>\n",
       "      <td>0</td>\n",
       "    </tr>\n",
       "    <tr>\n",
       "      <th>4</th>\n",
       "      <td>0</td>\n",
       "      <td>0.140705</td>\n",
       "      <td>0</td>\n",
       "      <td>0</td>\n",
       "    </tr>\n",
       "    <tr>\n",
       "      <th>5</th>\n",
       "      <td>0</td>\n",
       "      <td>0.000000</td>\n",
       "      <td>0</td>\n",
       "      <td>0</td>\n",
       "    </tr>\n",
       "    <tr>\n",
       "      <th>6</th>\n",
       "      <td>0</td>\n",
       "      <td>0.468826</td>\n",
       "      <td>0</td>\n",
       "      <td>0</td>\n",
       "    </tr>\n",
       "    <tr>\n",
       "      <th>7</th>\n",
       "      <td>0</td>\n",
       "      <td>0.521362</td>\n",
       "      <td>0</td>\n",
       "      <td>0</td>\n",
       "    </tr>\n",
       "    <tr>\n",
       "      <th>8</th>\n",
       "      <td>0</td>\n",
       "      <td>0.559581</td>\n",
       "      <td>0</td>\n",
       "      <td>0</td>\n",
       "    </tr>\n",
       "    <tr>\n",
       "      <th>9</th>\n",
       "      <td>0</td>\n",
       "      <td>0.100000</td>\n",
       "      <td>0</td>\n",
       "      <td>0</td>\n",
       "    </tr>\n",
       "    <tr>\n",
       "      <th>10</th>\n",
       "      <td>0</td>\n",
       "      <td>0.358870</td>\n",
       "      <td>0</td>\n",
       "      <td>0</td>\n",
       "    </tr>\n",
       "    <tr>\n",
       "      <th>11</th>\n",
       "      <td>0</td>\n",
       "      <td>0.000000</td>\n",
       "      <td>0</td>\n",
       "      <td>0</td>\n",
       "    </tr>\n",
       "    <tr>\n",
       "      <th>12</th>\n",
       "      <td>0</td>\n",
       "      <td>0.238683</td>\n",
       "      <td>0</td>\n",
       "      <td>0</td>\n",
       "    </tr>\n",
       "    <tr>\n",
       "      <th>13</th>\n",
       "      <td>0</td>\n",
       "      <td>0.100000</td>\n",
       "      <td>0</td>\n",
       "      <td>0</td>\n",
       "    </tr>\n",
       "    <tr>\n",
       "      <th>14</th>\n",
       "      <td>0</td>\n",
       "      <td>0.402015</td>\n",
       "      <td>0</td>\n",
       "      <td>0</td>\n",
       "    </tr>\n",
       "    <tr>\n",
       "      <th>15</th>\n",
       "      <td>0</td>\n",
       "      <td>0.609272</td>\n",
       "      <td>0</td>\n",
       "      <td>0</td>\n",
       "    </tr>\n",
       "    <tr>\n",
       "      <th>16</th>\n",
       "      <td>0</td>\n",
       "      <td>0.100000</td>\n",
       "      <td>0</td>\n",
       "      <td>0</td>\n",
       "    </tr>\n",
       "    <tr>\n",
       "      <th>17</th>\n",
       "      <td>0</td>\n",
       "      <td>0.142134</td>\n",
       "      <td>0</td>\n",
       "      <td>0</td>\n",
       "    </tr>\n",
       "    <tr>\n",
       "      <th>18</th>\n",
       "      <td>0</td>\n",
       "      <td>0.504925</td>\n",
       "      <td>0</td>\n",
       "      <td>0</td>\n",
       "    </tr>\n",
       "    <tr>\n",
       "      <th>19</th>\n",
       "      <td>0</td>\n",
       "      <td>0.171447</td>\n",
       "      <td>0</td>\n",
       "      <td>0</td>\n",
       "    </tr>\n",
       "    <tr>\n",
       "      <th>20</th>\n",
       "      <td>0</td>\n",
       "      <td>0.256432</td>\n",
       "      <td>0</td>\n",
       "      <td>0</td>\n",
       "    </tr>\n",
       "    <tr>\n",
       "      <th>21</th>\n",
       "      <td>0</td>\n",
       "      <td>0.377525</td>\n",
       "      <td>0</td>\n",
       "      <td>0</td>\n",
       "    </tr>\n",
       "    <tr>\n",
       "      <th>22</th>\n",
       "      <td>0</td>\n",
       "      <td>0.358870</td>\n",
       "      <td>0</td>\n",
       "      <td>0</td>\n",
       "    </tr>\n",
       "    <tr>\n",
       "      <th>23</th>\n",
       "      <td>0</td>\n",
       "      <td>0.497570</td>\n",
       "      <td>0</td>\n",
       "      <td>0</td>\n",
       "    </tr>\n",
       "    <tr>\n",
       "      <th>24</th>\n",
       "      <td>0</td>\n",
       "      <td>0.100000</td>\n",
       "      <td>0</td>\n",
       "      <td>0</td>\n",
       "    </tr>\n",
       "    <tr>\n",
       "      <th>25</th>\n",
       "      <td>0</td>\n",
       "      <td>0.196946</td>\n",
       "      <td>0</td>\n",
       "      <td>0</td>\n",
       "    </tr>\n",
       "    <tr>\n",
       "      <th>26</th>\n",
       "      <td>0</td>\n",
       "      <td>0.256432</td>\n",
       "      <td>0</td>\n",
       "      <td>0</td>\n",
       "    </tr>\n",
       "    <tr>\n",
       "      <th>27</th>\n",
       "      <td>0</td>\n",
       "      <td>0.440844</td>\n",
       "      <td>0</td>\n",
       "      <td>0</td>\n",
       "    </tr>\n",
       "    <tr>\n",
       "      <th>28</th>\n",
       "      <td>0</td>\n",
       "      <td>0.301511</td>\n",
       "      <td>0</td>\n",
       "      <td>0</td>\n",
       "    </tr>\n",
       "    <tr>\n",
       "      <th>29</th>\n",
       "      <td>0</td>\n",
       "      <td>0.000000</td>\n",
       "      <td>0</td>\n",
       "      <td>0</td>\n",
       "    </tr>\n",
       "    <tr>\n",
       "      <th>30</th>\n",
       "      <td>0</td>\n",
       "      <td>0.238683</td>\n",
       "      <td>0</td>\n",
       "      <td>0</td>\n",
       "    </tr>\n",
       "    <tr>\n",
       "      <th>31</th>\n",
       "      <td>0</td>\n",
       "      <td>0.196946</td>\n",
       "      <td>0</td>\n",
       "      <td>0</td>\n",
       "    </tr>\n",
       "  </tbody>\n",
       "</table>\n",
       "</div>"
      ],
      "text/plain": [
       "    #       avg  students  non-students\n",
       "1   0  0.171447         0             0\n",
       "2   0  0.000000         0             0\n",
       "3   0  0.100000         0             0\n",
       "4   0  0.140705         0             0\n",
       "5   0  0.000000         0             0\n",
       "6   0  0.468826         0             0\n",
       "7   0  0.521362         0             0\n",
       "8   0  0.559581         0             0\n",
       "9   0  0.100000         0             0\n",
       "10  0  0.358870         0             0\n",
       "11  0  0.000000         0             0\n",
       "12  0  0.238683         0             0\n",
       "13  0  0.100000         0             0\n",
       "14  0  0.402015         0             0\n",
       "15  0  0.609272         0             0\n",
       "16  0  0.100000         0             0\n",
       "17  0  0.142134         0             0\n",
       "18  0  0.504925         0             0\n",
       "19  0  0.171447         0             0\n",
       "20  0  0.256432         0             0\n",
       "21  0  0.377525         0             0\n",
       "22  0  0.358870         0             0\n",
       "23  0  0.497570         0             0\n",
       "24  0  0.100000         0             0\n",
       "25  0  0.196946         0             0\n",
       "26  0  0.256432         0             0\n",
       "27  0  0.440844         0             0\n",
       "28  0  0.301511         0             0\n",
       "29  0  0.000000         0             0\n",
       "30  0  0.238683         0             0\n",
       "31  0  0.196946         0             0"
      ]
     },
     "execution_count": 26,
     "metadata": {},
     "output_type": "execute_result"
    }
   ],
   "source": [
    "df_errors = pd.DataFrame(0, index=df.index, columns=df.columns)\n",
    "df_errors[\"avg\"] = df_raw.groupby(\"#\")[\"answers\"].std()\n",
    "df_errors"
   ]
  },
  {
   "cell_type": "code",
   "execution_count": 66,
   "id": "7efd9dfd",
   "metadata": {},
   "outputs": [
    {
     "data": {
      "image/png": "[encoded data removed]",
      "text/plain": [
       "<Figure size 640x480 with 1 Axes>"
      ]
     },
     "metadata": {},
     "output_type": "display_data"
    }
   ],
   "source": [
    "df.iloc[slices[0], 1:4].plot(\n",
    "    kind='bar',\n",
    "    ylim=(0, 5.9),\n",
    "    yerr=df_errors,\n",
    "    capsize=3,\n",
    "    ecolor='darkred',\n",
    "    color=['#2ca02c', '#4682b4', '#5a9bd4'],\n",
    "    width=0.7\n",
    ").legend(['LLM', 'Students', 'Non-students'])\n",
    "plt.xlabel('Questions')\n",
    "plt.ylabel('Score')\n",
    "plt.tight_layout()\n",
    "plt.show()"
   ]
  },
  {
   "cell_type": "code",
   "execution_count": 34,
   "id": "1a5ff4d3",
   "metadata": {},
   "outputs": [
    {
     "data": {
      "text/html": [
       "<div>\n",
       "<style scoped>\n",
       "    .dataframe tbody tr th:only-of-type {\n",
       "        vertical-align: middle;\n",
       "    }\n",
       "\n",
       "    .dataframe tbody tr th {\n",
       "        vertical-align: top;\n",
       "    }\n",
       "\n",
       "    .dataframe thead th {\n",
       "        text-align: right;\n",
       "    }\n",
       "</style>\n",
       "<table border=\"1\" class=\"dataframe\">\n",
       "  <thead>\n",
       "    <tr style=\"text-align: right;\">\n",
       "      <th></th>\n",
       "      <th>#</th>\n",
       "      <th>avg</th>\n",
       "      <th>students</th>\n",
       "      <th>non-students</th>\n",
       "    </tr>\n",
       "  </thead>\n",
       "  <tbody>\n",
       "    <tr>\n",
       "      <th>1</th>\n",
       "      <td>1</td>\n",
       "      <td>1.03</td>\n",
       "      <td>2.47</td>\n",
       "      <td>1.57</td>\n",
       "    </tr>\n",
       "    <tr>\n",
       "      <th>2</th>\n",
       "      <td>2</td>\n",
       "      <td>1.00</td>\n",
       "      <td>2.07</td>\n",
       "      <td>1.44</td>\n",
       "    </tr>\n",
       "    <tr>\n",
       "      <th>3</th>\n",
       "      <td>3</td>\n",
       "      <td>1.99</td>\n",
       "      <td>1.67</td>\n",
       "      <td>1.16</td>\n",
       "    </tr>\n",
       "    <tr>\n",
       "      <th>4</th>\n",
       "      <td>4</td>\n",
       "      <td>1.02</td>\n",
       "      <td>1.44</td>\n",
       "      <td>1.07</td>\n",
       "    </tr>\n",
       "    <tr>\n",
       "      <th>5</th>\n",
       "      <td>5</td>\n",
       "      <td>1.00</td>\n",
       "      <td>1.76</td>\n",
       "      <td>1.22</td>\n",
       "    </tr>\n",
       "    <tr>\n",
       "      <th>6</th>\n",
       "      <td>6</td>\n",
       "      <td>1.68</td>\n",
       "      <td>3.25</td>\n",
       "      <td>2.08</td>\n",
       "    </tr>\n",
       "    <tr>\n",
       "      <th>7</th>\n",
       "      <td>7</td>\n",
       "      <td>3.47</td>\n",
       "      <td>2.65</td>\n",
       "      <td>1.81</td>\n",
       "    </tr>\n",
       "    <tr>\n",
       "      <th>8</th>\n",
       "      <td>8</td>\n",
       "      <td>2.90</td>\n",
       "      <td>2.78</td>\n",
       "      <td>1.76</td>\n",
       "    </tr>\n",
       "    <tr>\n",
       "      <th>9</th>\n",
       "      <td>9</td>\n",
       "      <td>2.01</td>\n",
       "      <td>2.25</td>\n",
       "      <td>1.66</td>\n",
       "    </tr>\n",
       "    <tr>\n",
       "      <th>10</th>\n",
       "      <td>10</td>\n",
       "      <td>2.15</td>\n",
       "      <td>3.34</td>\n",
       "      <td>2.44</td>\n",
       "    </tr>\n",
       "    <tr>\n",
       "      <th>11</th>\n",
       "      <td>11</td>\n",
       "      <td>2.00</td>\n",
       "      <td>2.10</td>\n",
       "      <td>1.53</td>\n",
       "    </tr>\n",
       "    <tr>\n",
       "      <th>12</th>\n",
       "      <td>12</td>\n",
       "      <td>1.94</td>\n",
       "      <td>2.98</td>\n",
       "      <td>2.12</td>\n",
       "    </tr>\n",
       "    <tr>\n",
       "      <th>13</th>\n",
       "      <td>13</td>\n",
       "      <td>2.01</td>\n",
       "      <td>3.14</td>\n",
       "      <td>2.27</td>\n",
       "    </tr>\n",
       "    <tr>\n",
       "      <th>14</th>\n",
       "      <td>14</td>\n",
       "      <td>1.80</td>\n",
       "      <td>2.46</td>\n",
       "      <td>1.73</td>\n",
       "    </tr>\n",
       "    <tr>\n",
       "      <th>15</th>\n",
       "      <td>15</td>\n",
       "      <td>1.55</td>\n",
       "      <td>2.01</td>\n",
       "      <td>1.72</td>\n",
       "    </tr>\n",
       "    <tr>\n",
       "      <th>16</th>\n",
       "      <td>16</td>\n",
       "      <td>2.99</td>\n",
       "      <td>2.37</td>\n",
       "      <td>2.27</td>\n",
       "    </tr>\n",
       "    <tr>\n",
       "      <th>17</th>\n",
       "      <td>17</td>\n",
       "      <td>3.00</td>\n",
       "      <td>3.52</td>\n",
       "      <td>2.17</td>\n",
       "    </tr>\n",
       "    <tr>\n",
       "      <th>18</th>\n",
       "      <td>18</td>\n",
       "      <td>2.26</td>\n",
       "      <td>4.07</td>\n",
       "      <td>2.78</td>\n",
       "    </tr>\n",
       "    <tr>\n",
       "      <th>19</th>\n",
       "      <td>19</td>\n",
       "      <td>2.97</td>\n",
       "      <td>3.95</td>\n",
       "      <td>3.80</td>\n",
       "    </tr>\n",
       "    <tr>\n",
       "      <th>20</th>\n",
       "      <td>20</td>\n",
       "      <td>1.93</td>\n",
       "      <td>4.42</td>\n",
       "      <td>4.11</td>\n",
       "    </tr>\n",
       "    <tr>\n",
       "      <th>21</th>\n",
       "      <td>21</td>\n",
       "      <td>2.17</td>\n",
       "      <td>4.29</td>\n",
       "      <td>4.00</td>\n",
       "    </tr>\n",
       "    <tr>\n",
       "      <th>22</th>\n",
       "      <td>22</td>\n",
       "      <td>2.15</td>\n",
       "      <td>4.02</td>\n",
       "      <td>2.77</td>\n",
       "    </tr>\n",
       "    <tr>\n",
       "      <th>23</th>\n",
       "      <td>23</td>\n",
       "      <td>1.57</td>\n",
       "      <td>3.40</td>\n",
       "      <td>2.24</td>\n",
       "    </tr>\n",
       "    <tr>\n",
       "      <th>24</th>\n",
       "      <td>24</td>\n",
       "      <td>2.99</td>\n",
       "      <td>3.73</td>\n",
       "      <td>3.00</td>\n",
       "    </tr>\n",
       "    <tr>\n",
       "      <th>25</th>\n",
       "      <td>25</td>\n",
       "      <td>1.96</td>\n",
       "      <td>4.01</td>\n",
       "      <td>3.63</td>\n",
       "    </tr>\n",
       "    <tr>\n",
       "      <th>26</th>\n",
       "      <td>26</td>\n",
       "      <td>1.93</td>\n",
       "      <td>3.90</td>\n",
       "      <td>3.73</td>\n",
       "    </tr>\n",
       "    <tr>\n",
       "      <th>27</th>\n",
       "      <td>27</td>\n",
       "      <td>2.26</td>\n",
       "      <td>4.64</td>\n",
       "      <td>4.68</td>\n",
       "    </tr>\n",
       "    <tr>\n",
       "      <th>28</th>\n",
       "      <td>28</td>\n",
       "      <td>2.10</td>\n",
       "      <td>4.51</td>\n",
       "      <td>4.07</td>\n",
       "    </tr>\n",
       "    <tr>\n",
       "      <th>29</th>\n",
       "      <td>29</td>\n",
       "      <td>2.00</td>\n",
       "      <td>4.26</td>\n",
       "      <td>3.97</td>\n",
       "    </tr>\n",
       "    <tr>\n",
       "      <th>30</th>\n",
       "      <td>30</td>\n",
       "      <td>3.06</td>\n",
       "      <td>4.61</td>\n",
       "      <td>4.53</td>\n",
       "    </tr>\n",
       "    <tr>\n",
       "      <th>31</th>\n",
       "      <td>31</td>\n",
       "      <td>4.04</td>\n",
       "      <td>4.24</td>\n",
       "      <td>4.03</td>\n",
       "    </tr>\n",
       "  </tbody>\n",
       "</table>\n",
       "</div>"
      ],
      "text/plain": [
       "     #   avg  students  non-students\n",
       "1    1  1.03      2.47          1.57\n",
       "2    2  1.00      2.07          1.44\n",
       "3    3  1.99      1.67          1.16\n",
       "4    4  1.02      1.44          1.07\n",
       "5    5  1.00      1.76          1.22\n",
       "6    6  1.68      3.25          2.08\n",
       "7    7  3.47      2.65          1.81\n",
       "8    8  2.90      2.78          1.76\n",
       "9    9  2.01      2.25          1.66\n",
       "10  10  2.15      3.34          2.44\n",
       "11  11  2.00      2.10          1.53\n",
       "12  12  1.94      2.98          2.12\n",
       "13  13  2.01      3.14          2.27\n",
       "14  14  1.80      2.46          1.73\n",
       "15  15  1.55      2.01          1.72\n",
       "16  16  2.99      2.37          2.27\n",
       "17  17  3.00      3.52          2.17\n",
       "18  18  2.26      4.07          2.78\n",
       "19  19  2.97      3.95          3.80\n",
       "20  20  1.93      4.42          4.11\n",
       "21  21  2.17      4.29          4.00\n",
       "22  22  2.15      4.02          2.77\n",
       "23  23  1.57      3.40          2.24\n",
       "24  24  2.99      3.73          3.00\n",
       "25  25  1.96      4.01          3.63\n",
       "26  26  1.93      3.90          3.73\n",
       "27  27  2.26      4.64          4.68\n",
       "28  28  2.10      4.51          4.07\n",
       "29  29  2.00      4.26          3.97\n",
       "30  30  3.06      4.61          4.53\n",
       "31  31  4.04      4.24          4.03"
      ]
     },
     "execution_count": 34,
     "metadata": {},
     "output_type": "execute_result"
    }
   ],
   "source": [
    "df"
   ]
  },
  {
   "cell_type": "code",
   "execution_count": 64,
   "id": "db603a4f",
   "metadata": {},
   "outputs": [
    {
     "ename": "KeyError",
     "evalue": "'category'",
     "output_type": "error",
     "traceback": [
      "\u001b[0;31m---------------------------------------------------------------------------\u001b[0m",
      "\u001b[0;31mKeyError\u001b[0m                                  Traceback (most recent call last)",
      "File \u001b[0;32m~/miniconda3/envs/env_consumerEthics/lib/python3.12/site-packages/pandas/core/indexes/base.py:3805\u001b[0m, in \u001b[0;36mIndex.get_loc\u001b[0;34m(self, key)\u001b[0m\n\u001b[1;32m   3804\u001b[0m \u001b[38;5;28;01mtry\u001b[39;00m:\n\u001b[0;32m-> 3805\u001b[0m     \u001b[38;5;28;01mreturn\u001b[39;00m \u001b[38;5;28;43mself\u001b[39;49m\u001b[38;5;241;43m.\u001b[39;49m\u001b[43m_engine\u001b[49m\u001b[38;5;241;43m.\u001b[39;49m\u001b[43mget_loc\u001b[49m\u001b[43m(\u001b[49m\u001b[43mcasted_key\u001b[49m\u001b[43m)\u001b[49m\n\u001b[1;32m   3806\u001b[0m \u001b[38;5;28;01mexcept\u001b[39;00m \u001b[38;5;167;01mKeyError\u001b[39;00m \u001b[38;5;28;01mas\u001b[39;00m err:\n",
      "File \u001b[0;32mindex.pyx:167\u001b[0m, in \u001b[0;36mpandas._libs.index.IndexEngine.get_loc\u001b[0;34m()\u001b[0m\n",
      "File \u001b[0;32mindex.pyx:196\u001b[0m, in \u001b[0;36mpandas._libs.index.IndexEngine.get_loc\u001b[0;34m()\u001b[0m\n",
      "File \u001b[0;32mpandas/_libs/hashtable_class_helper.pxi:7081\u001b[0m, in \u001b[0;36mpandas._libs.hashtable.PyObjectHashTable.get_item\u001b[0;34m()\u001b[0m\n",
      "File \u001b[0;32mpandas/_libs/hashtable_class_helper.pxi:7089\u001b[0m, in \u001b[0;36mpandas._libs.hashtable.PyObjectHashTable.get_item\u001b[0;34m()\u001b[0m\n",
      "\u001b[0;31mKeyError\u001b[0m: 'category'",
      "\nThe above exception was the direct cause of the following exception:\n",
      "\u001b[0;31mKeyError\u001b[0m                                  Traceback (most recent call last)",
      "Cell \u001b[0;32mIn[64], line 14\u001b[0m\n\u001b[1;32m     12\u001b[0m ax\u001b[38;5;241m.\u001b[39mset_ylim(\u001b[38;5;241m0\u001b[39m, \u001b[38;5;241m5.9\u001b[39m)\n\u001b[1;32m     13\u001b[0m ax\u001b[38;5;241m.\u001b[39mset_xticks(x)\n\u001b[0;32m---> 14\u001b[0m ax\u001b[38;5;241m.\u001b[39mset_xticklabels(\u001b[43mdf\u001b[49m\u001b[43m[\u001b[49m\u001b[38;5;124;43m'\u001b[39;49m\u001b[38;5;124;43mcategory\u001b[39;49m\u001b[38;5;124;43m'\u001b[39;49m\u001b[43m]\u001b[49m\u001b[38;5;241m.\u001b[39miloc[slices[\u001b[38;5;241m0\u001b[39m]])\n\u001b[1;32m     15\u001b[0m ax\u001b[38;5;241m.\u001b[39mlegend()\n\u001b[1;32m     17\u001b[0m plt\u001b[38;5;241m.\u001b[39mshow()\n",
      "File \u001b[0;32m~/miniconda3/envs/env_consumerEthics/lib/python3.12/site-packages/pandas/core/frame.py:4102\u001b[0m, in \u001b[0;36mDataFrame.__getitem__\u001b[0;34m(self, key)\u001b[0m\n\u001b[1;32m   4100\u001b[0m \u001b[38;5;28;01mif\u001b[39;00m \u001b[38;5;28mself\u001b[39m\u001b[38;5;241m.\u001b[39mcolumns\u001b[38;5;241m.\u001b[39mnlevels \u001b[38;5;241m>\u001b[39m \u001b[38;5;241m1\u001b[39m:\n\u001b[1;32m   4101\u001b[0m     \u001b[38;5;28;01mreturn\u001b[39;00m \u001b[38;5;28mself\u001b[39m\u001b[38;5;241m.\u001b[39m_getitem_multilevel(key)\n\u001b[0;32m-> 4102\u001b[0m indexer \u001b[38;5;241m=\u001b[39m \u001b[38;5;28;43mself\u001b[39;49m\u001b[38;5;241;43m.\u001b[39;49m\u001b[43mcolumns\u001b[49m\u001b[38;5;241;43m.\u001b[39;49m\u001b[43mget_loc\u001b[49m\u001b[43m(\u001b[49m\u001b[43mkey\u001b[49m\u001b[43m)\u001b[49m\n\u001b[1;32m   4103\u001b[0m \u001b[38;5;28;01mif\u001b[39;00m is_integer(indexer):\n\u001b[1;32m   4104\u001b[0m     indexer \u001b[38;5;241m=\u001b[39m [indexer]\n",
      "File \u001b[0;32m~/miniconda3/envs/env_consumerEthics/lib/python3.12/site-packages/pandas/core/indexes/base.py:3812\u001b[0m, in \u001b[0;36mIndex.get_loc\u001b[0;34m(self, key)\u001b[0m\n\u001b[1;32m   3807\u001b[0m     \u001b[38;5;28;01mif\u001b[39;00m \u001b[38;5;28misinstance\u001b[39m(casted_key, \u001b[38;5;28mslice\u001b[39m) \u001b[38;5;129;01mor\u001b[39;00m (\n\u001b[1;32m   3808\u001b[0m         \u001b[38;5;28misinstance\u001b[39m(casted_key, abc\u001b[38;5;241m.\u001b[39mIterable)\n\u001b[1;32m   3809\u001b[0m         \u001b[38;5;129;01mand\u001b[39;00m \u001b[38;5;28many\u001b[39m(\u001b[38;5;28misinstance\u001b[39m(x, \u001b[38;5;28mslice\u001b[39m) \u001b[38;5;28;01mfor\u001b[39;00m x \u001b[38;5;129;01min\u001b[39;00m casted_key)\n\u001b[1;32m   3810\u001b[0m     ):\n\u001b[1;32m   3811\u001b[0m         \u001b[38;5;28;01mraise\u001b[39;00m InvalidIndexError(key)\n\u001b[0;32m-> 3812\u001b[0m     \u001b[38;5;28;01mraise\u001b[39;00m \u001b[38;5;167;01mKeyError\u001b[39;00m(key) \u001b[38;5;28;01mfrom\u001b[39;00m \u001b[38;5;21;01merr\u001b[39;00m\n\u001b[1;32m   3813\u001b[0m \u001b[38;5;28;01mexcept\u001b[39;00m \u001b[38;5;167;01mTypeError\u001b[39;00m:\n\u001b[1;32m   3814\u001b[0m     \u001b[38;5;66;03m# If we have a listlike key, _check_indexing_error will raise\u001b[39;00m\n\u001b[1;32m   3815\u001b[0m     \u001b[38;5;66;03m#  InvalidIndexError. Otherwise we fall through and re-raise\u001b[39;00m\n\u001b[1;32m   3816\u001b[0m     \u001b[38;5;66;03m#  the TypeError.\u001b[39;00m\n\u001b[1;32m   3817\u001b[0m     \u001b[38;5;28mself\u001b[39m\u001b[38;5;241m.\u001b[39m_check_indexing_error(key)\n",
      "\u001b[0;31mKeyError\u001b[0m: 'category'"
     ]
    },
    {
     "data": {
      "image/png": "[encoded data removed]",
      "text/plain": [
       "<Figure size 640x480 with 1 Axes>"
      ]
     },
     "metadata": {},
     "output_type": "display_data"
    }
   ],
   "source": [
    "# Plotting\n",
    "bar_width = 0.2\n",
    "x = np.arange(len(df.iloc[slices[0]]))\n",
    "\n",
    "fig, ax = plt.subplots()\n",
    "ax.bar(x - bar_width, df['avg'].iloc[slices[0]], bar_width, color='#2ca02c', label='avg')\n",
    "ax.bar(x, df['students'].iloc[slices[0]], bar_width, color='#4682b4', label='students')\n",
    "ax.bar(x + bar_width, df['non-students'].iloc[slices[0]], bar_width, color='#5a9bd4', label='non-students')\n",
    "\n",
    "ax.set_xlabel('Category')\n",
    "ax.set_ylabel('Values')\n",
    "ax.set_ylim(0, 5.9)\n",
    "ax.set_xticks(x)\n",
    "ax.set_xticklabels(df['category'].iloc[slices[0]])\n",
    "ax.legend()\n",
    "\n",
    "plt.show()"
   ]
  },
  {
   "cell_type": "code",
   "execution_count": null,
   "id": "cfcb4d02",
   "metadata": {},
   "outputs": [],
   "source": []
  }
 ],
 "metadata": {
  "kernelspec": {
   "display_name": "env_consumerEthics",
   "language": "python",
   "name": "python3"
  },
  "language_info": {
   "codemirror_mode": {
    "name": "ipython",
    "version": 3
   },
   "file_extension": ".py",
   "mimetype": "text/x-python",
   "name": "python",
   "nbconvert_exporter": "python",
   "pygments_lexer": "ipython3",
   "version": "3.12.7"
  }
 },
 "nbformat": 4,
 "nbformat_minor": 5
}
